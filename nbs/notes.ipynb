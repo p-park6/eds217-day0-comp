{
 "cells": [
  {
   "cell_type": "code",
   "execution_count": 1,
   "metadata": {},
   "outputs": [],
   "source": [
    "# test for fish\n",
    "# Import the libraries\n",
    "import pandas as pd # for dataframes\n",
    "import matplotlib.pyplot as plt # for plots\n",
    "import seaborn as sns # for nicer plots\n",
    "import re # regular expressions\n",
    "\n",
    "# Read the data\n",
    "toolik_fish = pd.read_csv(\n",
    "    # Path to the data\n",
    "    \"../data/raw_data/toolik_fish.csv\",\n",
    "    # not a number values are \"#N/A\"\n",
    "    na_values=\"#N/A\"\n",
    "    )"
   ]
  },
  {
   "cell_type": "code",
   "execution_count": 2,
   "metadata": {},
   "outputs": [
    {
     "name": "stdout",
     "output_type": "stream",
     "text": [
      "<class 'pandas.core.frame.DataFrame'>\n",
      "RangeIndex: 6726 entries, 0 to 6725\n",
      "Data columns (total 23 columns):\n",
      " #   Column                Non-Null Count  Dtype \n",
      "---  ------                --------------  ----- \n",
      " 0   Date                  6726 non-null   object\n",
      " 1   Site                  6726 non-null   object\n",
      " 2   Lake                  6726 non-null   object\n",
      " 3   Fish I.D.             6726 non-null   object\n",
      " 4   Species               6726 non-null   object\n",
      " 5   Total length (mm)     6726 non-null   object\n",
      " 6   FL (mm)               6726 non-null   object\n",
      " 7   SL (mm)               6173 non-null   object\n",
      " 8   Mass (g)              6726 non-null   object\n",
      " 9   Sampling              6726 non-null   object\n",
      " 10  Otos                  6726 non-null   object\n",
      " 11  Stomach               6726 non-null   object\n",
      " 12  Sex                   6726 non-null   object\n",
      " 13  Mature                6726 non-null   object\n",
      " 14  Gonads                6726 non-null   object\n",
      " 15  P1                    6726 non-null   object\n",
      " 16  Age                   6726 non-null   object\n",
      " 17  Total otolith radius  6726 non-null   object\n",
      " 18  DO1..DO52             6726 non-null   object\n",
      " 19  Fin clip              6726 non-null   object\n",
      " 20  Locality              6726 non-null   object\n",
      " 21  Scales                6726 non-null   object\n",
      " 22  Comments              6683 non-null   object\n",
      "dtypes: object(23)\n",
      "memory usage: 1.2+ MB\n"
     ]
    }
   ],
   "source": [
    "# Inspect the data\n",
    "toolik_fish.info()"
   ]
  },
  {
   "cell_type": "code",
   "execution_count": 3,
   "metadata": {},
   "outputs": [
    {
     "name": "stdout",
     "output_type": "stream",
     "text": [
      "(6726, 23)\n",
      "Index(['Date', 'Site', 'Lake', 'Fish I.D.', 'Species', 'Total length (mm)',\n",
      "       'FL (mm)', 'SL (mm)', 'Mass (g)', 'Sampling', 'Otos', 'Stomach', 'Sex',\n",
      "       'Mature', 'Gonads', 'P1', 'Age', 'Total otolith radius', 'DO1..DO52',\n",
      "       'Fin clip', 'Locality', 'Scales', 'Comments'],\n",
      "      dtype='object')\n"
     ]
    }
   ],
   "source": [
    "# Inspect the data\n",
    "print(toolik_fish.shape)\n",
    "print(toolik_fish.columns)"
   ]
  },
  {
   "cell_type": "code",
   "execution_count": 4,
   "metadata": {},
   "outputs": [],
   "source": [
    "def snakecase(s):\n",
    "        \"\"\"Convert CamelCase to snake_case and lowercase the string\n",
    "        s: string\n",
    "        \"\"\"\n",
    "        s = re.sub(\n",
    "        # Find a lower case letter or number (group 1)\n",
    "        # followed by an upper case letter (group 2):\n",
    "        '([a-z0-9])([A-Z])',\n",
    "        # Replace with - \n",
    "        # \\1, the lower case letter, \n",
    "        # _, an underscore, and\n",
    "        # \\2, the upper case letter:\n",
    "        r'\\1_\\2',\n",
    "        # Perform the search and replace in \n",
    "        # the string s:\n",
    "        s \n",
    "        )\n",
    "        s = re.sub(\n",
    "                ' ', # Find a space\n",
    "                '_', # Replace with an underscore\n",
    "                s    # In the string\n",
    "                ).lower()  # Convert to lower case\n",
    "        return s"
   ]
  },
  {
   "cell_type": "code",
   "execution_count": 6,
   "metadata": {},
   "outputs": [
    {
     "data": {
      "text/plain": [
       "Index(['date', 'site', 'lake', 'fish_i.d.', 'species', 'total_length_(mm)',\n",
       "       'fl_(mm)', 'sl_(mm)', 'mass_(g)', 'sampling', 'otos', 'stomach', 'sex',\n",
       "       'mature', 'gonads', 'p1', 'age', 'total_otolith_radius', 'do1..do52',\n",
       "       'fin_clip', 'locality', 'scales', 'comments'],\n",
       "      dtype='object')"
      ]
     },
     "execution_count": 6,
     "metadata": {},
     "output_type": "execute_result"
    }
   ],
   "source": [
    "toolik_fish.columns = [\n",
    "    # Replace spaces with underscores and lowercase labels\n",
    "    # for each col in toolik_weather.columns\n",
    "    snakecase(col) for col in toolik_fish.columns\n",
    "]\n",
    "\n",
    "# Check the cleaned column names\n",
    "toolik_fish.columns"
   ]
  },
  {
   "cell_type": "code",
   "execution_count": 12,
   "metadata": {},
   "outputs": [
    {
     "ename": "KeyboardInterrupt",
     "evalue": "",
     "output_type": "error",
     "traceback": [
      "\u001b[1;31m---------------------------------------------------------------------------\u001b[0m",
      "\u001b[1;31mKeyboardInterrupt\u001b[0m                         Traceback (most recent call last)",
      "Cell \u001b[1;32mIn[12], line 33\u001b[0m\n\u001b[0;32m     29\u001b[0m plt\u001b[39m.\u001b[39mylabel(\u001b[39m\"\u001b[39m\u001b[39mDaily mean air temperatures (Celsius)\u001b[39m\u001b[39m\"\u001b[39m)\n\u001b[0;32m     31\u001b[0m \u001b[39m# Finally, the .show() function displays the plot\u001b[39;00m\n\u001b[0;32m     32\u001b[0m \u001b[39m# in the notebook output.\u001b[39;00m\n\u001b[1;32m---> 33\u001b[0m plt\u001b[39m.\u001b[39;49mshow()\n",
      "File \u001b[1;32mc:\\Users\\patty\\anaconda3\\envs\\eds217_2023\\lib\\site-packages\\matplotlib\\pyplot.py:446\u001b[0m, in \u001b[0;36mshow\u001b[1;34m(*args, **kwargs)\u001b[0m\n\u001b[0;32m    402\u001b[0m \u001b[39m\u001b[39m\u001b[39m\"\"\"\u001b[39;00m\n\u001b[0;32m    403\u001b[0m \u001b[39mDisplay all open figures.\u001b[39;00m\n\u001b[0;32m    404\u001b[0m \n\u001b[1;32m   (...)\u001b[0m\n\u001b[0;32m    443\u001b[0m \u001b[39mexplicitly there.\u001b[39;00m\n\u001b[0;32m    444\u001b[0m \u001b[39m\"\"\"\u001b[39;00m\n\u001b[0;32m    445\u001b[0m _warn_if_gui_out_of_main_thread()\n\u001b[1;32m--> 446\u001b[0m \u001b[39mreturn\u001b[39;00m _get_backend_mod()\u001b[39m.\u001b[39mshow(\u001b[39m*\u001b[39margs, \u001b[39m*\u001b[39m\u001b[39m*\u001b[39mkwargs)\n",
      "File \u001b[1;32mc:\\Users\\patty\\anaconda3\\envs\\eds217_2023\\lib\\site-packages\\matplotlib_inline\\backend_inline.py:90\u001b[0m, in \u001b[0;36mshow\u001b[1;34m(close, block)\u001b[0m\n\u001b[0;32m     88\u001b[0m \u001b[39mtry\u001b[39;00m:\n\u001b[0;32m     89\u001b[0m     \u001b[39mfor\u001b[39;00m figure_manager \u001b[39min\u001b[39;00m Gcf\u001b[39m.\u001b[39mget_all_fig_managers():\n\u001b[1;32m---> 90\u001b[0m         display(\n\u001b[0;32m     91\u001b[0m             figure_manager\u001b[39m.\u001b[39;49mcanvas\u001b[39m.\u001b[39;49mfigure,\n\u001b[0;32m     92\u001b[0m             metadata\u001b[39m=\u001b[39;49m_fetch_figure_metadata(figure_manager\u001b[39m.\u001b[39;49mcanvas\u001b[39m.\u001b[39;49mfigure)\n\u001b[0;32m     93\u001b[0m         )\n\u001b[0;32m     94\u001b[0m \u001b[39mfinally\u001b[39;00m:\n\u001b[0;32m     95\u001b[0m     show\u001b[39m.\u001b[39m_to_draw \u001b[39m=\u001b[39m []\n",
      "File \u001b[1;32mc:\\Users\\patty\\anaconda3\\envs\\eds217_2023\\lib\\site-packages\\IPython\\core\\display_functions.py:298\u001b[0m, in \u001b[0;36mdisplay\u001b[1;34m(include, exclude, metadata, transient, display_id, raw, clear, *objs, **kwargs)\u001b[0m\n\u001b[0;32m    296\u001b[0m     publish_display_data(data\u001b[39m=\u001b[39mobj, metadata\u001b[39m=\u001b[39mmetadata, \u001b[39m*\u001b[39m\u001b[39m*\u001b[39mkwargs)\n\u001b[0;32m    297\u001b[0m \u001b[39melse\u001b[39;00m:\n\u001b[1;32m--> 298\u001b[0m     format_dict, md_dict \u001b[39m=\u001b[39m \u001b[39mformat\u001b[39;49m(obj, include\u001b[39m=\u001b[39;49minclude, exclude\u001b[39m=\u001b[39;49mexclude)\n\u001b[0;32m    299\u001b[0m     \u001b[39mif\u001b[39;00m \u001b[39mnot\u001b[39;00m format_dict:\n\u001b[0;32m    300\u001b[0m         \u001b[39m# nothing to display (e.g. _ipython_display_ took over)\u001b[39;00m\n\u001b[0;32m    301\u001b[0m         \u001b[39mcontinue\u001b[39;00m\n",
      "File \u001b[1;32mc:\\Users\\patty\\anaconda3\\envs\\eds217_2023\\lib\\site-packages\\IPython\\core\\formatters.py:179\u001b[0m, in \u001b[0;36mDisplayFormatter.format\u001b[1;34m(self, obj, include, exclude)\u001b[0m\n\u001b[0;32m    177\u001b[0m md \u001b[39m=\u001b[39m \u001b[39mNone\u001b[39;00m\n\u001b[0;32m    178\u001b[0m \u001b[39mtry\u001b[39;00m:\n\u001b[1;32m--> 179\u001b[0m     data \u001b[39m=\u001b[39m formatter(obj)\n\u001b[0;32m    180\u001b[0m \u001b[39mexcept\u001b[39;00m:\n\u001b[0;32m    181\u001b[0m     \u001b[39m# FIXME: log the exception\u001b[39;00m\n\u001b[0;32m    182\u001b[0m     \u001b[39mraise\u001b[39;00m\n",
      "File \u001b[1;32mc:\\Users\\patty\\anaconda3\\envs\\eds217_2023\\lib\\site-packages\\decorator.py:232\u001b[0m, in \u001b[0;36mdecorate.<locals>.fun\u001b[1;34m(*args, **kw)\u001b[0m\n\u001b[0;32m    230\u001b[0m \u001b[39mif\u001b[39;00m \u001b[39mnot\u001b[39;00m kwsyntax:\n\u001b[0;32m    231\u001b[0m     args, kw \u001b[39m=\u001b[39m fix(args, kw, sig)\n\u001b[1;32m--> 232\u001b[0m \u001b[39mreturn\u001b[39;00m caller(func, \u001b[39m*\u001b[39m(extras \u001b[39m+\u001b[39m args), \u001b[39m*\u001b[39m\u001b[39m*\u001b[39mkw)\n",
      "File \u001b[1;32mc:\\Users\\patty\\anaconda3\\envs\\eds217_2023\\lib\\site-packages\\IPython\\core\\formatters.py:223\u001b[0m, in \u001b[0;36mcatch_format_error\u001b[1;34m(method, self, *args, **kwargs)\u001b[0m\n\u001b[0;32m    221\u001b[0m \u001b[39m\u001b[39m\u001b[39m\"\"\"show traceback on failed format call\"\"\"\u001b[39;00m\n\u001b[0;32m    222\u001b[0m \u001b[39mtry\u001b[39;00m:\n\u001b[1;32m--> 223\u001b[0m     r \u001b[39m=\u001b[39m method(\u001b[39mself\u001b[39m, \u001b[39m*\u001b[39margs, \u001b[39m*\u001b[39m\u001b[39m*\u001b[39mkwargs)\n\u001b[0;32m    224\u001b[0m \u001b[39mexcept\u001b[39;00m \u001b[39mNotImplementedError\u001b[39;00m:\n\u001b[0;32m    225\u001b[0m     \u001b[39m# don't warn on NotImplementedErrors\u001b[39;00m\n\u001b[0;32m    226\u001b[0m     \u001b[39mreturn\u001b[39;00m \u001b[39mself\u001b[39m\u001b[39m.\u001b[39m_check_return(\u001b[39mNone\u001b[39;00m, args[\u001b[39m0\u001b[39m])\n",
      "File \u001b[1;32mc:\\Users\\patty\\anaconda3\\envs\\eds217_2023\\lib\\site-packages\\IPython\\core\\formatters.py:340\u001b[0m, in \u001b[0;36mBaseFormatter.__call__\u001b[1;34m(self, obj)\u001b[0m\n\u001b[0;32m    338\u001b[0m     \u001b[39mpass\u001b[39;00m\n\u001b[0;32m    339\u001b[0m \u001b[39melse\u001b[39;00m:\n\u001b[1;32m--> 340\u001b[0m     \u001b[39mreturn\u001b[39;00m printer(obj)\n\u001b[0;32m    341\u001b[0m \u001b[39m# Finally look for special method names\u001b[39;00m\n\u001b[0;32m    342\u001b[0m method \u001b[39m=\u001b[39m get_real_method(obj, \u001b[39mself\u001b[39m\u001b[39m.\u001b[39mprint_method)\n",
      "File \u001b[1;32mc:\\Users\\patty\\anaconda3\\envs\\eds217_2023\\lib\\site-packages\\IPython\\core\\pylabtools.py:152\u001b[0m, in \u001b[0;36mprint_figure\u001b[1;34m(fig, fmt, bbox_inches, base64, **kwargs)\u001b[0m\n\u001b[0;32m    149\u001b[0m     \u001b[39mfrom\u001b[39;00m \u001b[39mmatplotlib\u001b[39;00m\u001b[39m.\u001b[39;00m\u001b[39mbackend_bases\u001b[39;00m \u001b[39mimport\u001b[39;00m FigureCanvasBase\n\u001b[0;32m    150\u001b[0m     FigureCanvasBase(fig)\n\u001b[1;32m--> 152\u001b[0m fig\u001b[39m.\u001b[39mcanvas\u001b[39m.\u001b[39mprint_figure(bytes_io, \u001b[39m*\u001b[39m\u001b[39m*\u001b[39mkw)\n\u001b[0;32m    153\u001b[0m data \u001b[39m=\u001b[39m bytes_io\u001b[39m.\u001b[39mgetvalue()\n\u001b[0;32m    154\u001b[0m \u001b[39mif\u001b[39;00m fmt \u001b[39m==\u001b[39m \u001b[39m'\u001b[39m\u001b[39msvg\u001b[39m\u001b[39m'\u001b[39m:\n",
      "File \u001b[1;32mc:\\Users\\patty\\anaconda3\\envs\\eds217_2023\\lib\\site-packages\\matplotlib\\backend_bases.py:2342\u001b[0m, in \u001b[0;36mFigureCanvasBase.print_figure\u001b[1;34m(self, filename, dpi, facecolor, edgecolor, orientation, format, bbox_inches, pad_inches, bbox_extra_artists, backend, **kwargs)\u001b[0m\n\u001b[0;32m   2336\u001b[0m     renderer \u001b[39m=\u001b[39m _get_renderer(\n\u001b[0;32m   2337\u001b[0m         \u001b[39mself\u001b[39m\u001b[39m.\u001b[39mfigure,\n\u001b[0;32m   2338\u001b[0m         functools\u001b[39m.\u001b[39mpartial(\n\u001b[0;32m   2339\u001b[0m             print_method, orientation\u001b[39m=\u001b[39morientation)\n\u001b[0;32m   2340\u001b[0m     )\n\u001b[0;32m   2341\u001b[0m     \u001b[39mwith\u001b[39;00m \u001b[39mgetattr\u001b[39m(renderer, \u001b[39m\"\u001b[39m\u001b[39m_draw_disabled\u001b[39m\u001b[39m\"\u001b[39m, nullcontext)():\n\u001b[1;32m-> 2342\u001b[0m         \u001b[39mself\u001b[39;49m\u001b[39m.\u001b[39;49mfigure\u001b[39m.\u001b[39;49mdraw(renderer)\n\u001b[0;32m   2344\u001b[0m \u001b[39mif\u001b[39;00m bbox_inches:\n\u001b[0;32m   2345\u001b[0m     \u001b[39mif\u001b[39;00m bbox_inches \u001b[39m==\u001b[39m \u001b[39m\"\u001b[39m\u001b[39mtight\u001b[39m\u001b[39m\"\u001b[39m:\n",
      "File \u001b[1;32mc:\\Users\\patty\\anaconda3\\envs\\eds217_2023\\lib\\site-packages\\matplotlib\\artist.py:95\u001b[0m, in \u001b[0;36m_finalize_rasterization.<locals>.draw_wrapper\u001b[1;34m(artist, renderer, *args, **kwargs)\u001b[0m\n\u001b[0;32m     93\u001b[0m \u001b[39m@wraps\u001b[39m(draw)\n\u001b[0;32m     94\u001b[0m \u001b[39mdef\u001b[39;00m \u001b[39mdraw_wrapper\u001b[39m(artist, renderer, \u001b[39m*\u001b[39margs, \u001b[39m*\u001b[39m\u001b[39m*\u001b[39mkwargs):\n\u001b[1;32m---> 95\u001b[0m     result \u001b[39m=\u001b[39m draw(artist, renderer, \u001b[39m*\u001b[39margs, \u001b[39m*\u001b[39m\u001b[39m*\u001b[39mkwargs)\n\u001b[0;32m     96\u001b[0m     \u001b[39mif\u001b[39;00m renderer\u001b[39m.\u001b[39m_rasterizing:\n\u001b[0;32m     97\u001b[0m         renderer\u001b[39m.\u001b[39mstop_rasterizing()\n",
      "File \u001b[1;32mc:\\Users\\patty\\anaconda3\\envs\\eds217_2023\\lib\\site-packages\\matplotlib\\artist.py:72\u001b[0m, in \u001b[0;36mallow_rasterization.<locals>.draw_wrapper\u001b[1;34m(artist, renderer)\u001b[0m\n\u001b[0;32m     69\u001b[0m     \u001b[39mif\u001b[39;00m artist\u001b[39m.\u001b[39mget_agg_filter() \u001b[39mis\u001b[39;00m \u001b[39mnot\u001b[39;00m \u001b[39mNone\u001b[39;00m:\n\u001b[0;32m     70\u001b[0m         renderer\u001b[39m.\u001b[39mstart_filter()\n\u001b[1;32m---> 72\u001b[0m     \u001b[39mreturn\u001b[39;00m draw(artist, renderer)\n\u001b[0;32m     73\u001b[0m \u001b[39mfinally\u001b[39;00m:\n\u001b[0;32m     74\u001b[0m     \u001b[39mif\u001b[39;00m artist\u001b[39m.\u001b[39mget_agg_filter() \u001b[39mis\u001b[39;00m \u001b[39mnot\u001b[39;00m \u001b[39mNone\u001b[39;00m:\n",
      "File \u001b[1;32mc:\\Users\\patty\\anaconda3\\envs\\eds217_2023\\lib\\site-packages\\matplotlib\\figure.py:3175\u001b[0m, in \u001b[0;36mFigure.draw\u001b[1;34m(self, renderer)\u001b[0m\n\u001b[0;32m   3172\u001b[0m         \u001b[39m# ValueError can occur when resizing a window.\u001b[39;00m\n\u001b[0;32m   3174\u001b[0m \u001b[39mself\u001b[39m\u001b[39m.\u001b[39mpatch\u001b[39m.\u001b[39mdraw(renderer)\n\u001b[1;32m-> 3175\u001b[0m mimage\u001b[39m.\u001b[39;49m_draw_list_compositing_images(\n\u001b[0;32m   3176\u001b[0m     renderer, \u001b[39mself\u001b[39;49m, artists, \u001b[39mself\u001b[39;49m\u001b[39m.\u001b[39;49msuppressComposite)\n\u001b[0;32m   3178\u001b[0m \u001b[39mfor\u001b[39;00m sfig \u001b[39min\u001b[39;00m \u001b[39mself\u001b[39m\u001b[39m.\u001b[39msubfigs:\n\u001b[0;32m   3179\u001b[0m     sfig\u001b[39m.\u001b[39mdraw(renderer)\n",
      "File \u001b[1;32mc:\\Users\\patty\\anaconda3\\envs\\eds217_2023\\lib\\site-packages\\matplotlib\\image.py:131\u001b[0m, in \u001b[0;36m_draw_list_compositing_images\u001b[1;34m(renderer, parent, artists, suppress_composite)\u001b[0m\n\u001b[0;32m    129\u001b[0m \u001b[39mif\u001b[39;00m not_composite \u001b[39mor\u001b[39;00m \u001b[39mnot\u001b[39;00m has_images:\n\u001b[0;32m    130\u001b[0m     \u001b[39mfor\u001b[39;00m a \u001b[39min\u001b[39;00m artists:\n\u001b[1;32m--> 131\u001b[0m         a\u001b[39m.\u001b[39;49mdraw(renderer)\n\u001b[0;32m    132\u001b[0m \u001b[39melse\u001b[39;00m:\n\u001b[0;32m    133\u001b[0m     \u001b[39m# Composite any adjacent images together\u001b[39;00m\n\u001b[0;32m    134\u001b[0m     image_group \u001b[39m=\u001b[39m []\n",
      "File \u001b[1;32mc:\\Users\\patty\\anaconda3\\envs\\eds217_2023\\lib\\site-packages\\matplotlib\\artist.py:72\u001b[0m, in \u001b[0;36mallow_rasterization.<locals>.draw_wrapper\u001b[1;34m(artist, renderer)\u001b[0m\n\u001b[0;32m     69\u001b[0m     \u001b[39mif\u001b[39;00m artist\u001b[39m.\u001b[39mget_agg_filter() \u001b[39mis\u001b[39;00m \u001b[39mnot\u001b[39;00m \u001b[39mNone\u001b[39;00m:\n\u001b[0;32m     70\u001b[0m         renderer\u001b[39m.\u001b[39mstart_filter()\n\u001b[1;32m---> 72\u001b[0m     \u001b[39mreturn\u001b[39;00m draw(artist, renderer)\n\u001b[0;32m     73\u001b[0m \u001b[39mfinally\u001b[39;00m:\n\u001b[0;32m     74\u001b[0m     \u001b[39mif\u001b[39;00m artist\u001b[39m.\u001b[39mget_agg_filter() \u001b[39mis\u001b[39;00m \u001b[39mnot\u001b[39;00m \u001b[39mNone\u001b[39;00m:\n",
      "File \u001b[1;32mc:\\Users\\patty\\anaconda3\\envs\\eds217_2023\\lib\\site-packages\\matplotlib\\axes\\_base.py:3064\u001b[0m, in \u001b[0;36m_AxesBase.draw\u001b[1;34m(self, renderer)\u001b[0m\n\u001b[0;32m   3061\u001b[0m \u001b[39mif\u001b[39;00m artists_rasterized:\n\u001b[0;32m   3062\u001b[0m     _draw_rasterized(\u001b[39mself\u001b[39m\u001b[39m.\u001b[39mfigure, artists_rasterized, renderer)\n\u001b[1;32m-> 3064\u001b[0m mimage\u001b[39m.\u001b[39;49m_draw_list_compositing_images(\n\u001b[0;32m   3065\u001b[0m     renderer, \u001b[39mself\u001b[39;49m, artists, \u001b[39mself\u001b[39;49m\u001b[39m.\u001b[39;49mfigure\u001b[39m.\u001b[39;49msuppressComposite)\n\u001b[0;32m   3067\u001b[0m renderer\u001b[39m.\u001b[39mclose_group(\u001b[39m'\u001b[39m\u001b[39maxes\u001b[39m\u001b[39m'\u001b[39m)\n\u001b[0;32m   3068\u001b[0m \u001b[39mself\u001b[39m\u001b[39m.\u001b[39mstale \u001b[39m=\u001b[39m \u001b[39mFalse\u001b[39;00m\n",
      "File \u001b[1;32mc:\\Users\\patty\\anaconda3\\envs\\eds217_2023\\lib\\site-packages\\matplotlib\\image.py:131\u001b[0m, in \u001b[0;36m_draw_list_compositing_images\u001b[1;34m(renderer, parent, artists, suppress_composite)\u001b[0m\n\u001b[0;32m    129\u001b[0m \u001b[39mif\u001b[39;00m not_composite \u001b[39mor\u001b[39;00m \u001b[39mnot\u001b[39;00m has_images:\n\u001b[0;32m    130\u001b[0m     \u001b[39mfor\u001b[39;00m a \u001b[39min\u001b[39;00m artists:\n\u001b[1;32m--> 131\u001b[0m         a\u001b[39m.\u001b[39;49mdraw(renderer)\n\u001b[0;32m    132\u001b[0m \u001b[39melse\u001b[39;00m:\n\u001b[0;32m    133\u001b[0m     \u001b[39m# Composite any adjacent images together\u001b[39;00m\n\u001b[0;32m    134\u001b[0m     image_group \u001b[39m=\u001b[39m []\n",
      "File \u001b[1;32mc:\\Users\\patty\\anaconda3\\envs\\eds217_2023\\lib\\site-packages\\matplotlib\\artist.py:72\u001b[0m, in \u001b[0;36mallow_rasterization.<locals>.draw_wrapper\u001b[1;34m(artist, renderer)\u001b[0m\n\u001b[0;32m     69\u001b[0m     \u001b[39mif\u001b[39;00m artist\u001b[39m.\u001b[39mget_agg_filter() \u001b[39mis\u001b[39;00m \u001b[39mnot\u001b[39;00m \u001b[39mNone\u001b[39;00m:\n\u001b[0;32m     70\u001b[0m         renderer\u001b[39m.\u001b[39mstart_filter()\n\u001b[1;32m---> 72\u001b[0m     \u001b[39mreturn\u001b[39;00m draw(artist, renderer)\n\u001b[0;32m     73\u001b[0m \u001b[39mfinally\u001b[39;00m:\n\u001b[0;32m     74\u001b[0m     \u001b[39mif\u001b[39;00m artist\u001b[39m.\u001b[39mget_agg_filter() \u001b[39mis\u001b[39;00m \u001b[39mnot\u001b[39;00m \u001b[39mNone\u001b[39;00m:\n",
      "File \u001b[1;32mc:\\Users\\patty\\anaconda3\\envs\\eds217_2023\\lib\\site-packages\\matplotlib\\legend.py:726\u001b[0m, in \u001b[0;36mLegend.draw\u001b[1;34m(self, renderer)\u001b[0m\n\u001b[0;32m    722\u001b[0m     \u001b[39mself\u001b[39m\u001b[39m.\u001b[39m_legend_box\u001b[39m.\u001b[39mset_width(\u001b[39mself\u001b[39m\u001b[39m.\u001b[39mget_bbox_to_anchor()\u001b[39m.\u001b[39mwidth \u001b[39m-\u001b[39m pad)\n\u001b[0;32m    724\u001b[0m \u001b[39m# update the location and size of the legend. This needs to\u001b[39;00m\n\u001b[0;32m    725\u001b[0m \u001b[39m# be done in any case to clip the figure right.\u001b[39;00m\n\u001b[1;32m--> 726\u001b[0m bbox \u001b[39m=\u001b[39m \u001b[39mself\u001b[39;49m\u001b[39m.\u001b[39;49m_legend_box\u001b[39m.\u001b[39;49mget_window_extent(renderer)\n\u001b[0;32m    727\u001b[0m \u001b[39mself\u001b[39m\u001b[39m.\u001b[39mlegendPatch\u001b[39m.\u001b[39mset_bounds(bbox\u001b[39m.\u001b[39mbounds)\n\u001b[0;32m    728\u001b[0m \u001b[39mself\u001b[39m\u001b[39m.\u001b[39mlegendPatch\u001b[39m.\u001b[39mset_mutation_scale(fontsize)\n",
      "File \u001b[1;32mc:\\Users\\patty\\anaconda3\\envs\\eds217_2023\\lib\\site-packages\\matplotlib\\offsetbox.py:402\u001b[0m, in \u001b[0;36mOffsetBox.get_window_extent\u001b[1;34m(self, renderer)\u001b[0m\n\u001b[0;32m    400\u001b[0m bbox \u001b[39m=\u001b[39m \u001b[39mself\u001b[39m\u001b[39m.\u001b[39mget_bbox(renderer)\n\u001b[0;32m    401\u001b[0m \u001b[39mtry\u001b[39;00m:  \u001b[39m# Some subclasses redefine get_offset to take no args.\u001b[39;00m\n\u001b[1;32m--> 402\u001b[0m     px, py \u001b[39m=\u001b[39m \u001b[39mself\u001b[39;49m\u001b[39m.\u001b[39;49mget_offset(bbox, renderer)\n\u001b[0;32m    403\u001b[0m \u001b[39mexcept\u001b[39;00m \u001b[39mTypeError\u001b[39;00m:\n\u001b[0;32m    404\u001b[0m     px, py \u001b[39m=\u001b[39m \u001b[39mself\u001b[39m\u001b[39m.\u001b[39mget_offset()\n",
      "File \u001b[1;32mc:\\Users\\patty\\anaconda3\\envs\\eds217_2023\\lib\\site-packages\\matplotlib\\offsetbox.py:60\u001b[0m, in \u001b[0;36m_compat_get_offset.<locals>.get_offset\u001b[1;34m(self, *args, **kwargs)\u001b[0m\n\u001b[0;32m     56\u001b[0m params \u001b[39m=\u001b[39m _api\u001b[39m.\u001b[39mselect_matching_signature(sigs, \u001b[39mself\u001b[39m, \u001b[39m*\u001b[39margs, \u001b[39m*\u001b[39m\u001b[39m*\u001b[39mkwargs)\n\u001b[0;32m     57\u001b[0m bbox \u001b[39m=\u001b[39m (params[\u001b[39m\"\u001b[39m\u001b[39mbbox\u001b[39m\u001b[39m\"\u001b[39m] \u001b[39mif\u001b[39;00m \u001b[39m\"\u001b[39m\u001b[39mbbox\u001b[39m\u001b[39m\"\u001b[39m \u001b[39min\u001b[39;00m params \u001b[39melse\u001b[39;00m\n\u001b[0;32m     58\u001b[0m         Bbox\u001b[39m.\u001b[39mfrom_bounds(\u001b[39m-\u001b[39mparams[\u001b[39m\"\u001b[39m\u001b[39mxdescent\u001b[39m\u001b[39m\"\u001b[39m], \u001b[39m-\u001b[39mparams[\u001b[39m\"\u001b[39m\u001b[39mydescent\u001b[39m\u001b[39m\"\u001b[39m],\n\u001b[0;32m     59\u001b[0m                          params[\u001b[39m\"\u001b[39m\u001b[39mwidth\u001b[39m\u001b[39m\"\u001b[39m], params[\u001b[39m\"\u001b[39m\u001b[39mheight\u001b[39m\u001b[39m\"\u001b[39m]))\n\u001b[1;32m---> 60\u001b[0m \u001b[39mreturn\u001b[39;00m meth(params[\u001b[39m\"\u001b[39;49m\u001b[39mself\u001b[39;49m\u001b[39m\"\u001b[39;49m], bbox, params[\u001b[39m\"\u001b[39;49m\u001b[39mrenderer\u001b[39;49m\u001b[39m\"\u001b[39;49m])\n",
      "File \u001b[1;32mc:\\Users\\patty\\anaconda3\\envs\\eds217_2023\\lib\\site-packages\\matplotlib\\offsetbox.py:313\u001b[0m, in \u001b[0;36mOffsetBox.get_offset\u001b[1;34m(self, bbox, renderer)\u001b[0m\n\u001b[0;32m    298\u001b[0m \u001b[39m@_compat_get_offset\u001b[39m\n\u001b[0;32m    299\u001b[0m \u001b[39mdef\u001b[39;00m \u001b[39mget_offset\u001b[39m(\u001b[39mself\u001b[39m, bbox, renderer):\n\u001b[0;32m    300\u001b[0m \u001b[39m    \u001b[39m\u001b[39m\"\"\"\u001b[39;00m\n\u001b[0;32m    301\u001b[0m \u001b[39m    Return the offset as a tuple (x, y).\u001b[39;00m\n\u001b[0;32m    302\u001b[0m \n\u001b[1;32m   (...)\u001b[0m\n\u001b[0;32m    310\u001b[0m \u001b[39m    renderer : `.RendererBase` subclass\u001b[39;00m\n\u001b[0;32m    311\u001b[0m \u001b[39m    \"\"\"\u001b[39;00m\n\u001b[0;32m    312\u001b[0m     \u001b[39mreturn\u001b[39;00m (\n\u001b[1;32m--> 313\u001b[0m         \u001b[39mself\u001b[39;49m\u001b[39m.\u001b[39;49m_offset(bbox\u001b[39m.\u001b[39;49mwidth, bbox\u001b[39m.\u001b[39;49mheight, \u001b[39m-\u001b[39;49mbbox\u001b[39m.\u001b[39;49mx0, \u001b[39m-\u001b[39;49mbbox\u001b[39m.\u001b[39;49my0, renderer)\n\u001b[0;32m    314\u001b[0m         \u001b[39mif\u001b[39;00m \u001b[39mcallable\u001b[39m(\u001b[39mself\u001b[39m\u001b[39m.\u001b[39m_offset)\n\u001b[0;32m    315\u001b[0m         \u001b[39melse\u001b[39;00m \u001b[39mself\u001b[39m\u001b[39m.\u001b[39m_offset)\n",
      "File \u001b[1;32mc:\\Users\\patty\\anaconda3\\envs\\eds217_2023\\lib\\site-packages\\matplotlib\\legend.py:695\u001b[0m, in \u001b[0;36mLegend._findoffset\u001b[1;34m(self, width, height, xdescent, ydescent, renderer)\u001b[0m\n\u001b[0;32m    692\u001b[0m \u001b[39m\u001b[39m\u001b[39m\"\"\"Helper function to locate the legend.\"\"\"\u001b[39;00m\n\u001b[0;32m    694\u001b[0m \u001b[39mif\u001b[39;00m \u001b[39mself\u001b[39m\u001b[39m.\u001b[39m_loc \u001b[39m==\u001b[39m \u001b[39m0\u001b[39m:  \u001b[39m# \"best\".\u001b[39;00m\n\u001b[1;32m--> 695\u001b[0m     x, y \u001b[39m=\u001b[39m \u001b[39mself\u001b[39;49m\u001b[39m.\u001b[39;49m_find_best_position(width, height, renderer)\n\u001b[0;32m    696\u001b[0m \u001b[39melif\u001b[39;00m \u001b[39mself\u001b[39m\u001b[39m.\u001b[39m_loc \u001b[39min\u001b[39;00m Legend\u001b[39m.\u001b[39mcodes\u001b[39m.\u001b[39mvalues():  \u001b[39m# Fixed location.\u001b[39;00m\n\u001b[0;32m    697\u001b[0m     bbox \u001b[39m=\u001b[39m Bbox\u001b[39m.\u001b[39mfrom_bounds(\u001b[39m0\u001b[39m, \u001b[39m0\u001b[39m, width, height)\n",
      "File \u001b[1;32mc:\\Users\\patty\\anaconda3\\envs\\eds217_2023\\lib\\site-packages\\matplotlib\\legend.py:1125\u001b[0m, in \u001b[0;36mLegend._find_best_position\u001b[1;34m(self, width, height, renderer, consider)\u001b[0m\n\u001b[0;32m   1121\u001b[0m \u001b[39massert\u001b[39;00m \u001b[39mself\u001b[39m\u001b[39m.\u001b[39misaxes  \u001b[39m# always holds, as this is only called internally\u001b[39;00m\n\u001b[0;32m   1123\u001b[0m start_time \u001b[39m=\u001b[39m time\u001b[39m.\u001b[39mperf_counter()\n\u001b[1;32m-> 1125\u001b[0m bboxes, lines, offsets \u001b[39m=\u001b[39m \u001b[39mself\u001b[39;49m\u001b[39m.\u001b[39;49m_auto_legend_data()\n\u001b[0;32m   1127\u001b[0m bbox \u001b[39m=\u001b[39m Bbox\u001b[39m.\u001b[39mfrom_bounds(\u001b[39m0\u001b[39m, \u001b[39m0\u001b[39m, width, height)\n\u001b[0;32m   1128\u001b[0m \u001b[39mif\u001b[39;00m consider \u001b[39mis\u001b[39;00m \u001b[39mNone\u001b[39;00m:\n",
      "File \u001b[1;32mc:\\Users\\patty\\anaconda3\\envs\\eds217_2023\\lib\\site-packages\\matplotlib\\legend.py:936\u001b[0m, in \u001b[0;36mLegend._auto_legend_data\u001b[1;34m(self)\u001b[0m\n\u001b[0;32m    933\u001b[0m     lines\u001b[39m.\u001b[39mappend(\n\u001b[0;32m    934\u001b[0m         artist\u001b[39m.\u001b[39mget_transform()\u001b[39m.\u001b[39mtransform_path(artist\u001b[39m.\u001b[39mget_path()))\n\u001b[0;32m    935\u001b[0m \u001b[39melif\u001b[39;00m \u001b[39misinstance\u001b[39m(artist, Collection):\n\u001b[1;32m--> 936\u001b[0m     transform, transOffset, hoffsets, _ \u001b[39m=\u001b[39m artist\u001b[39m.\u001b[39;49m_prepare_points()\n\u001b[0;32m    937\u001b[0m     \u001b[39mif\u001b[39;00m \u001b[39mlen\u001b[39m(hoffsets):\n\u001b[0;32m    938\u001b[0m         \u001b[39mfor\u001b[39;00m offset \u001b[39min\u001b[39;00m transOffset\u001b[39m.\u001b[39mtransform(hoffsets):\n",
      "File \u001b[1;32mc:\\Users\\patty\\anaconda3\\envs\\eds217_2023\\lib\\site-packages\\matplotlib\\collections.py:322\u001b[0m, in \u001b[0;36mCollection._prepare_points\u001b[1;34m(self)\u001b[0m\n\u001b[0;32m    320\u001b[0m     xs \u001b[39m=\u001b[39m \u001b[39mself\u001b[39m\u001b[39m.\u001b[39mconvert_xunits(xs)\n\u001b[0;32m    321\u001b[0m     ys \u001b[39m=\u001b[39m \u001b[39mself\u001b[39m\u001b[39m.\u001b[39mconvert_yunits(ys)\n\u001b[1;32m--> 322\u001b[0m     paths\u001b[39m.\u001b[39mappend(mpath\u001b[39m.\u001b[39mPath(np\u001b[39m.\u001b[39;49mcolumn_stack([xs, ys]), path\u001b[39m.\u001b[39mcodes))\n\u001b[0;32m    323\u001b[0m xs \u001b[39m=\u001b[39m \u001b[39mself\u001b[39m\u001b[39m.\u001b[39mconvert_xunits(offsets[:, \u001b[39m0\u001b[39m])\n\u001b[0;32m    324\u001b[0m ys \u001b[39m=\u001b[39m \u001b[39mself\u001b[39m\u001b[39m.\u001b[39mconvert_yunits(offsets[:, \u001b[39m1\u001b[39m])\n",
      "File \u001b[1;32mc:\\Users\\patty\\anaconda3\\envs\\eds217_2023\\lib\\site-packages\\numpy\\lib\\shape_base.py:652\u001b[0m, in \u001b[0;36mcolumn_stack\u001b[1;34m(tup)\u001b[0m\n\u001b[0;32m    650\u001b[0m         arr \u001b[39m=\u001b[39m array(arr, copy\u001b[39m=\u001b[39m\u001b[39mFalse\u001b[39;00m, subok\u001b[39m=\u001b[39m\u001b[39mTrue\u001b[39;00m, ndmin\u001b[39m=\u001b[39m\u001b[39m2\u001b[39m)\u001b[39m.\u001b[39mT\n\u001b[0;32m    651\u001b[0m     arrays\u001b[39m.\u001b[39mappend(arr)\n\u001b[1;32m--> 652\u001b[0m \u001b[39mreturn\u001b[39;00m _nx\u001b[39m.\u001b[39;49mconcatenate(arrays, \u001b[39m1\u001b[39;49m)\n",
      "\u001b[1;31mKeyboardInterrupt\u001b[0m: "
     ]
    }
   ],
   "source": [
    "fig = plt.figure(figsize=(10, 6)) # This command sets the size of the figure\n",
    "\n",
    "sns.histplot( # This command creates the data visualization (a strip plot)\n",
    "    # The data argument sets the data that will be used to create\n",
    "    # the plot. In this case, the data is the toolik_weather data\n",
    "    # frame:\n",
    "    data=toolik_fish, \n",
    "    # The next two arguments set the x and y axes. In this case,\n",
    "    # the x axis is set to the month column and the y axis is set\n",
    "    # to the daily air temperature column:\n",
    "    x='date', \n",
    "    y='total_length_(mm)', \n",
    "    #jitter=0.2, # This sets the jitter of the points on the x axis\n",
    "    # The hue argument sets the color of the points. In this case, \n",
    "    # the color is set by the daily air temperature:\n",
    "    hue='total_length_(mm)', \n",
    "    # The palette is the set of colors that\n",
    "    # will be used to color the points. In this case, the palette\n",
    "    # is set to the viridis palette, which is a colorblind-friendly\n",
    "    # palette:\n",
    "    palette='viridis' \n",
    ")\n",
    "\n",
    "# The title command sets the title of the plot\n",
    "plt.title(\"Toolik Station daily air temperature\")\n",
    "# The xlabel command sets the x axis label\n",
    "plt.xlabel(\"Month\")\n",
    "# The ylabel command sets the y axis label\n",
    "plt.ylabel(\"Daily mean air temperatures (Celsius)\")\n",
    "\n",
    "# Finally, the .show() function displays the plot\n",
    "# in the notebook output.\n",
    "plt.show()"
   ]
  }
 ],
 "metadata": {
  "kernelspec": {
   "display_name": "eds217_2023",
   "language": "python",
   "name": "python3"
  },
  "language_info": {
   "codemirror_mode": {
    "name": "ipython",
    "version": 3
   },
   "file_extension": ".py",
   "mimetype": "text/x-python",
   "name": "python",
   "nbconvert_exporter": "python",
   "pygments_lexer": "ipython3",
   "version": "3.10.12"
  },
  "orig_nbformat": 4
 },
 "nbformat": 4,
 "nbformat_minor": 2
}
